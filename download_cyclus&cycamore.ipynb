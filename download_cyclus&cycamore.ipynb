{
 "cells": [
  {
   "cell_type": "markdown",
   "metadata": {},
   "source": [
    "# Downloading Cyclus and Cycamore"
   ]
  },
  {
   "cell_type": "markdown",
   "metadata": {},
   "source": [
    "## Downloading Cyclus & Cycamore using Ubuntu 16.04"
   ]
  },
  {
   "cell_type": "markdown",
   "metadata": {},
   "source": [
    "### First step is to download Anaconda 3.\n",
    "\n",
    "- Run the following lines of code in a terminal "
   ]
  },
  {
   "cell_type": "code",
   "execution_count": null,
   "metadata": {
    "collapsed": true
   },
   "outputs": [],
   "source": [
    "cd /tmp\n",
    "sudo apt install curl\n",
    "curl -O https://repo.continuum.io/archive/Anaconda3-5.0.1-Linux-x86_64.sh\n",
    "sha256sum Anaconda3-5.0.1-Linux-x86_64.sh\n",
    "bash Anaconda3-5.0.1-Linux-x86_64.sh\n",
    "source ~/.bashrc"
   ]
  },
  {
   "cell_type": "markdown",
   "metadata": {},
   "source": [
    "### Download Dependencies and Update\n",
    "- Configure Anaconda and download _libiconv_ using the following commands:"
   ]
  },
  {
   "cell_type": "code",
   "execution_count": null,
   "metadata": {
    "collapsed": true
   },
   "outputs": [],
   "source": [
    "conda install libiconv\n",
    "conda config --add channels conda-forge\n",
    "conda update --all --update-deps"
   ]
  },
  {
   "cell_type": "markdown",
   "metadata": {},
   "source": [
    "### Download Cyclus and Cycamore\n",
    "- Once that's done, you're ready to download Cyclus and Cycamore!  Enter the following command:"
   ]
  },
  {
   "cell_type": "code",
   "execution_count": null,
   "metadata": {
    "collapsed": true
   },
   "outputs": [],
   "source": [
    "conda install -c conda-forge cyclus cycamore"
   ]
  },
  {
   "cell_type": "markdown",
   "metadata": {},
   "source": [
    "### Unit Tests\n",
    "- Test your installations with the unit tests below:"
   ]
  },
  {
   "cell_type": "code",
   "execution_count": null,
   "metadata": {
    "collapsed": true
   },
   "outputs": [],
   "source": [
    "cyclus_unit_tests\n",
    "cycamore_unit_tests"
   ]
  },
  {
   "cell_type": "markdown",
   "metadata": {},
   "source": [
    "### Congratulations! You've successfully Downloaded Cyclus and Cycamore onto your PC.\n",
    "\n",
    "If you experienced issues installing Cyclus or Cycamore, try visiting the issues page for Cyclus.  It's likely someone has had an issue similar to yours.\n",
    "\n",
    "[Github Issues Page](https://github.com/cyclus/cyclus/issues)"
   ]
  },
  {
   "cell_type": "markdown",
   "metadata": {},
   "source": [
    "## Downloading Cyclus and Cycamore Using Virtualbox"
   ]
  },
  {
   "attachments": {},
   "cell_type": "markdown",
   "metadata": {
    "collapsed": true
   },
   "source": [
    "#1. Download the file at the top of the page labeled \"64-bit PC (AMD64) desktop image\" in a location you can find later from the following link.\n",
    "\n",
    "[Ubuntu](http://releases.ubuntu.com/16.04/)\n",
    "\n",
    "<img src=\"drawisland-1.png\" width=\"500\"><br><br>\n",
    "\n",
    "#2. Then, download Virtualbox version 5.2 using the following link.\n",
    "\n",
    "[Virtualbox](https://www.virtualbox.org/)\n",
    "\n",
    "<img src=\"drawisland-2.png\" width=\"500\"><br><br>\n",
    "\n",
    "#3. Click on the \"Windows Hosts\" section to download Virtualbox.\n",
    "\n",
    "<img src=\"drawisland-3.png\" width=\"500\"><br><br>\n",
    "\n",
    "#4. Open Virtualbox and click \"New\".\n",
    "\n",
    "<img src=\"new.JPG\" width=\"500\"><br><br>\n",
    "\n",
    "#5. Name your virtual computer.\n",
    "\n",
    "<img src=\"Ubuntu-16.04.JPG\" width=\"500\"><br><br>\n",
    "\n",
    "#6. Allocate memory for your virtual machine (the default size is 1024 MB).\n",
    "\n",
    "<img src=\"memory.JPG\" width=\"500\"><br><br>\n",
    "\n",
    "#7. Create a virtual hard disk.\n",
    "\n",
    "<img src=\"hard disk.JPG\" width=\"500\"><br><br>\n",
    "\n",
    "#8. Choose VDI as the file type.\n",
    "\n",
    "<img src=\"VDI.JPG\" width=\"500\"><br><br>\n",
    "\n",
    "#9. Select \"Dynamically Located\"\n",
    "\n",
    "<img src=\"dynamically located.JPG\" width=\"500\"><br><br>\n",
    "\n",
    "#10. Enter a name for the virtual hard drive disk space\n",
    "\n",
    "<img src=\"file-loc-and-size.JPG\" width=\"500\"><br><br>\n",
    "\n",
    "#11. Select \"Start\" from the home page.\n",
    "\n",
    "<img src=\"Start.JPG\" width=\"500\"><br><br>\n",
    "\n",
    "#12. Find the Ubuntu file you download previously and click \"start\".\n",
    "\n",
    "<img src=\"open-ubuntu.JPG\" width=\"500\"><br><br>\n",
    "\n",
    "#13. Once the file boots up, you'll want to click \"Install Ubuntu\".\n",
    "\n",
    "<img src=\"install ubuntu.JPG\" width=\"500\"><br><br>\n",
    "\n",
    "#14. To save time later, click \"Download updates while installing Ubuntu\".\n",
    "\n",
    "<img src=\"download-updates.JPG\" width=\"500\"><br><br>\n",
    "\n",
    "#15. Because this is a fresh installation, click \"Erase disk and install Ubuntu\".\n",
    "\n",
    "<img src=\"erase-and-install.JPG\" width=\"500\"><br><br>\n",
    "\n",
    "The following steps are personalized to the user and may differ depending on the user.\n",
    "\n",
    "#16. Input your location.\n",
    "\n",
    "<img src=\"where-are-you.JPG\" width=\"500\"><br><br>\n",
    "\n",
    "#17. Input your keyboard layout.\n",
    "\n",
    "<img src=\"keyboard-layout.JPG\" width=\"500\"><br><br>\n",
    "\n",
    "#18. Input your username and password for your Ubuntu Virtualbox.\n",
    "\n",
    "<img src=\"user.JPG\" width=\"500\"><br><br>\n",
    "\n",
    "#19. Lastly, Install Ubuntu and login using your username and password.\n",
    "\n",
    "<img src=\"installing-screen.JPG\" width=\"500\"><br><br>\n",
    "\n",
    "After you login, open a terminal and follow the steps in the \"Downloading Cyclus & Cycamore using Ubuntu 16.04\" section above."
   ]
  }
 ],
 "metadata": {
  "kernelspec": {
   "display_name": "Python 3",
   "language": "python",
   "name": "python3"
  },
  "language_info": {
   "codemirror_mode": {
    "name": "ipython",
    "version": 3
   },
   "file_extension": ".py",
   "mimetype": "text/x-python",
   "name": "python",
   "nbconvert_exporter": "python",
   "pygments_lexer": "ipython3",
   "version": "3.6.3"
  }
 },
 "nbformat": 4,
 "nbformat_minor": 2
}
